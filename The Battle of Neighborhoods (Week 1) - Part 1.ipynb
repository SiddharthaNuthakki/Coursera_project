{
 "cells": [
  {
   "cell_type": "markdown",
   "metadata": {},
   "source": [
    "## The Battle of the Neighborhoods - Week 1"
   ]
  },
  {
   "cell_type": "markdown",
   "metadata": {},
   "source": [
    "### Problem Background"
   ]
  },
  {
   "cell_type": "markdown",
   "metadata": {},
   "source": [
    "The City of New York is one of the most populous city in the United States. It is a hub of business and commerce like banking, finance, world trade, retailing, tourism, fashion, real estate etc. It has lot of opportunities. Many fortune 500 companies are headquartered in New York City. High technology startup companies and employment are growing in New York City. \n",
    "\n",
    "New York city has diversified food culture with a range of international cuisines. It ranges from bagels, cheesecake, hot dogs, knishes, italian pizza, italian cuisine, sandwiches, coffee hourses, kebabs, street food and delicatessens of the city. As the city is highly diversified with pople and culture, location of the restuarent is key to success of the business. So, here the analyses helps in understanding of the business environment, reduction of risk and having a good return on investment. "
   ]
  },
  {
   "cell_type": "markdown",
   "metadata": {},
   "source": [
    "## Problem description"
   ]
  },
  {
   "cell_type": "markdown",
   "metadata": {},
   "source": [
    "A restaurant is a business which prepares and serves food and drinks to customers in exchange for money. Restaurants vary greatly in appearence and offerings, including in a wide variety of cuisine and service models ranging from inexpensive food restaurants and cafeterias to mid-priced family restaurants to high priced luxury establishments. \n",
    "\n",
    "So, considering all the diversified cultures and food, choosing the right place for restaurant is the key to business success. The key factors to be considered while placing a restarant.\n",
    "1. New york population distribution. \n",
    "2. Population demographics like race, ethnicity, religion, wealth and income disparity. \n",
    "3. Tourism (Places where there will be high floating population).\n",
    "4. Transportation (Taxis, rails and buses)\n",
    "5. Who are the other competetors in the location. \n",
    "6. How far is the place to buy all the materials required to prepare food etc.\n",
    "\n",
    "So, the objective of the project is to determine the location to start a new restaurent and understand the rationale behind choosing that location. The success of the project will be a recommendation of good neighborhood choice based on lack of restaurants in that location and nearest suppliers of ingredients. \n"
   ]
  },
  {
   "cell_type": "code",
   "execution_count": null,
   "metadata": {},
   "outputs": [],
   "source": []
  }
 ],
 "metadata": {
  "kernelspec": {
   "display_name": "Python 3",
   "language": "python",
   "name": "python3"
  },
  "language_info": {
   "codemirror_mode": {
    "name": "ipython",
    "version": 3
   },
   "file_extension": ".py",
   "mimetype": "text/x-python",
   "name": "python",
   "nbconvert_exporter": "python",
   "pygments_lexer": "ipython3",
   "version": "3.7.1"
  }
 },
 "nbformat": 4,
 "nbformat_minor": 2
}
