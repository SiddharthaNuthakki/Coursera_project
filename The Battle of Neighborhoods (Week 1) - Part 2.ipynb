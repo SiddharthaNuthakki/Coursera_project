{
 "cells": [
  {
   "cell_type": "markdown",
   "metadata": {},
   "source": [
    "## The Battle of the Neighborhoods - Week 1"
   ]
  },
  {
   "cell_type": "markdown",
   "metadata": {},
   "source": [
    "**Data:** New York city will be analyzed using the following datasets. <br>\n",
    "**Data 1:** New York city has 5 boroughs- Brookyln, Queens, Manhattan, The Bronx and StatenIsland and 306 neighborhoods. In order to cluster the neighborhoods we need information of all the 5 boroughs and the neighborhoods present in each borough along with latitude and longtitude coordinates of each neighborhood. <br>\n",
    "Data is available for free at: https://geo.nyu.edu/catalog/nyu_2451_34572 <br>\n",
    "**Data 2:** Second data which will be used is the DOHMH Farmers Markets and Food Boxes dataset. In this we will be using the data of Farmers Markets.\n",
    "https://data.cityofnewyork.us/dataset/DOHMH-Farmers-Markets-and-Food-Boxes/8vwk-6iz2\n",
    "\n",
    "Website - https://www.grownyc.org/greenmarketco/foodbox \n",
    "\n",
    "GrowNYC's Fresh Food Box Program is a food access initiative that enables under-served communities to purchase fresh, healthy, and primarily regionally grown produce well below traditional retail prices.\n",
    "\n",
    "A farmers' market is often defined as a public site used by two or more local or regional producers for the direct sale of farm products to consumers. In addition to fresh fruits and vegetables, markets may sell dairy products, fish, meat, baked goods, and other minimally processed foods.\n",
    "\n",
    "\n",
    "**Data 3:** For the below analysis we will get data from wikipedia as given below : \n",
    "\n",
    "New York Population \n",
    "New York City Demographics \n",
    "Cuisine of New York city \n",
    "https://en.wikipedia.org/wiki/New_York_City \n",
    "https://en.wikipedia.org/wiki/Economy_of_New_York_City \n",
    "https://en.wikipedia.org/wiki/Portal:New_York_City \n",
    "https://en.wikipedia.org/wiki/Cuisine_of_New_York_City \n",
    "https://en.wikipedia.org/wiki/List_of_Michelin_starred_restaurants_in_New_York_City\n",
    "\n",
    "**Data 4:** Newyork city geographical coordinates data will be utilized as input for the Foursquare API, that will be leveraged to provision venues information for each neighborhood.We will use the Foursquare API to explore neighborhoods in New York City.\n",
    "\n"
   ]
  },
  {
   "cell_type": "code",
   "execution_count": null,
   "metadata": {},
   "outputs": [],
   "source": []
  }
 ],
 "metadata": {
  "kernelspec": {
   "display_name": "Python 3",
   "language": "python",
   "name": "python3"
  },
  "language_info": {
   "codemirror_mode": {
    "name": "ipython",
    "version": 3
   },
   "file_extension": ".py",
   "mimetype": "text/x-python",
   "name": "python",
   "nbconvert_exporter": "python",
   "pygments_lexer": "ipython3",
   "version": "3.7.1"
  }
 },
 "nbformat": 4,
 "nbformat_minor": 2
}
